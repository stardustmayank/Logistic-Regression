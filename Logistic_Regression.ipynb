{
  "nbformat": 4,
  "nbformat_minor": 0,
  "metadata": {
    "colab": {
      "provenance": [],
      "authorship_tag": "ABX9TyMskxJIkExugzZuLWo9akkg",
      "include_colab_link": true
    },
    "kernelspec": {
      "name": "python3",
      "display_name": "Python 3"
    },
    "language_info": {
      "name": "python"
    }
  },
  "cells": [
    {
      "cell_type": "markdown",
      "metadata": {
        "id": "view-in-github",
        "colab_type": "text"
      },
      "source": [
        "<a href=\"https://colab.research.google.com/github/stardustmayank/Logistic-Regression/blob/main/Logistic_Regression.ipynb\" target=\"_parent\"><img src=\"https://colab.research.google.com/assets/colab-badge.svg\" alt=\"Open In Colab\"/></a>"
      ]
    },
    {
      "cell_type": "markdown",
      "source": [
        "#Logistic Regression"
      ],
      "metadata": {
        "id": "n7qAedSri7fX"
      }
    },
    {
      "cell_type": "code",
      "execution_count": 1,
      "metadata": {
        "id": "ILJs0Cq1i2fC"
      },
      "outputs": [],
      "source": [
        "import numpy as np\n",
        "import copy, math\n",
        "import matplotlib.pyplot as plt\n",
        "%matplotlib inline"
      ]
    },
    {
      "cell_type": "code",
      "source": [
        "x_train = np.array([\n",
        "    [33.88995798, 77.41429672],\n",
        "    [29.88341956, 44.19580318],\n",
        "    [35.42978931, 72.30135856],\n",
        "    [59.56173692, 86.83910997],\n",
        "    [79.57131982, 75.07902459],\n",
        "    [34.31527467, 78.53481611],\n",
        "    [30.14104426, 43.46247794],\n",
        "    [35.96200467, 23.27179864],\n",
        "    [60.62787123, 85.82068057],\n",
        "    [78.63455629, 74.54970892]\n",
        "])\n",
        "y_train = np.array([0, 0, 0, 1, 1, 1, 0, 0, 1, 1])"
      ],
      "metadata": {
        "id": "jBcWXQecrMl-"
      },
      "execution_count": 2,
      "outputs": []
    },
    {
      "cell_type": "code",
      "source": [
        "print(type(y_train))"
      ],
      "metadata": {
        "colab": {
          "base_uri": "https://localhost:8080/"
        },
        "id": "9m9rH2KCFrAT",
        "outputId": "8b5372c8-004d-49ec-d6a6-f730e33eca63"
      },
      "execution_count": 3,
      "outputs": [
        {
          "output_type": "stream",
          "name": "stdout",
          "text": [
            "<class 'numpy.ndarray'>\n"
          ]
        }
      ]
    },
    {
      "cell_type": "code",
      "source": [
        "print ('The shape of X_train is: ' + str(x_train.shape))\n",
        "print ('The shape of y_train is: ' + str(y_train.shape))\n",
        "print ('We have m = %d training examples' % (len(y_train)))"
      ],
      "metadata": {
        "colab": {
          "base_uri": "https://localhost:8080/"
        },
        "id": "YafVfE2iFyyx",
        "outputId": "af68c6a1-3052-4cb3-9c47-a05516cd5c9f"
      },
      "execution_count": 4,
      "outputs": [
        {
          "output_type": "stream",
          "name": "stdout",
          "text": [
            "The shape of X_train is: (10, 2)\n",
            "The shape of y_train is: (10,)\n",
            "We have m = 10 training examples\n"
          ]
        }
      ]
    },
    {
      "cell_type": "code",
      "source": [
        "\n",
        "# Plot examples\n",
        "plt.scatter(x_train[y_train[:] == 1][:, 0], x_train[y_train[:] == 1][:, 1], color='green', marker='+', label='Admitted')\n",
        "plt.scatter(x_train[y_train[:] == 0][:, 0], x_train[y_train[:] == 0][:, 1], color='red', marker='o', label='Not admitted')\n",
        "\n",
        "# Set the y-axis label\n",
        "plt.ylabel('Exam 2 score')\n",
        "# Set the x-axis label\n",
        "plt.xlabel('Exam 1 score')\n",
        "plt.legend(loc=\"upper right\")\n",
        "plt.show()\n"
      ],
      "metadata": {
        "colab": {
          "base_uri": "https://localhost:8080/",
          "height": 455
        },
        "id": "Zu47_ZCvG714",
        "outputId": "6ba77c5f-2c7f-4abd-8994-eac00b44047f"
      },
      "execution_count": 5,
      "outputs": [
        {
          "output_type": "display_data",
          "data": {
            "text/plain": [
              "<Figure size 640x480 with 1 Axes>"
            ],
            "image/png": "[encoded data removed]"
          },
          "metadata": {}
        }
      ]
    },
    {
      "cell_type": "markdown",
      "source": [
        "###Sigmoid Function Definition"
      ],
      "metadata": {
        "id": "W6RhsRpuIkzW"
      }
    },
    {
      "cell_type": "code",
      "source": [
        "def sigmoid(z):\n",
        "  g = 1/(1 + np.exp(-z))\n",
        "  return g"
      ],
      "metadata": {
        "id": "TE7OxTYTHM3n"
      },
      "execution_count": 6,
      "outputs": []
    },
    {
      "cell_type": "code",
      "source": [
        "print(sigmoid(0)) # Sigmoid function works correctly"
      ],
      "metadata": {
        "colab": {
          "base_uri": "https://localhost:8080/"
        },
        "id": "QJkiTwzbI_Cd",
        "outputId": "cf75a6ab-998a-483e-8617-55b6478c1e69"
      },
      "execution_count": 7,
      "outputs": [
        {
          "output_type": "stream",
          "name": "stdout",
          "text": [
            "0.5\n"
          ]
        }
      ]
    },
    {
      "cell_type": "markdown",
      "source": [
        "##Cost function for Logistic Regression"
      ],
      "metadata": {
        "id": "HPUhri5NJR2a"
      }
    },
    {
      "cell_type": "code",
      "source": [
        "def logistic_cost(x, y, w, b, *args):\n",
        "  m, n = x.shape\n",
        "  total_cost = 0.0\n",
        "  for i in range(m):\n",
        "    z_i = np.dot(w, x[i]) + b\n",
        "    f_wb_i = sigmoid(z_i)\n",
        "    total_cost += -y[i]*np.log(f_wb_i) - (1-y[i])*np.log(1 - f_wb_i)\n",
        "  total_cost /= m\n",
        "  return total_cost"
      ],
      "metadata": {
        "id": "72K6TUFBJBPE"
      },
      "execution_count": 8,
      "outputs": []
    },
    {
      "cell_type": "code",
      "source": [
        "m, n = x_train.shape\n",
        "# Computing cost based on zero values of w and b\n",
        "initial_w = np.zeros(n)\n",
        "initial_b = 0\n",
        "cost = logistic_cost(x_train, y_train, initial_w, initial_b)\n",
        "print('Initial cost at zero w and b: {:.3f}'.format(cost))"
      ],
      "metadata": {
        "colab": {
          "base_uri": "https://localhost:8080/"
        },
        "id": "h-5HgY-aK_pV",
        "outputId": "c78aee0d-be6d-47d1-f90a-0b6c6bfc4cce"
      },
      "execution_count": 9,
      "outputs": [
        {
          "output_type": "stream",
          "name": "stdout",
          "text": [
            "Initial cost at zero w and b: 0.693\n"
          ]
        }
      ]
    },
    {
      "cell_type": "code",
      "source": [
        "# Computing and displaying cost with non-zero w and b\n",
        "test_w = np.array([0.2, 0.2])\n",
        "test_b = -24.\n",
        "cost = logistic_cost(x_train, y_train, test_w, test_b)\n",
        "\n",
        "print('Cost at test w and b (non-zeros): {:.3f}'.format(cost))"
      ],
      "metadata": {
        "colab": {
          "base_uri": "https://localhost:8080/"
        },
        "id": "XfbWwVqSLtz4",
        "outputId": "e55c650f-51dc-4847-86d7-014efef97a0e"
      },
      "execution_count": 10,
      "outputs": [
        {
          "output_type": "stream",
          "name": "stdout",
          "text": [
            "Cost at test w and b (non-zeros): 0.190\n"
          ]
        }
      ]
    },
    {
      "cell_type": "markdown",
      "source": [
        "##Gradient Descent for Logistic Regression"
      ],
      "metadata": {
        "id": "CEsQkZuTMGuG"
      }
    },
    {
      "cell_type": "code",
      "source": [
        "def compute_gradient(x, y, w, b, *args):\n",
        "  m, n = x.shape\n",
        "  dj_dw = np.zeros(w.shape)\n",
        "  dj_db = 0.0\n",
        "  for i in range(m):\n",
        "    f_wb_i = sigmoid(np.dot(x[i], w) + b)\n",
        "    err_i = f_wb_i - y[i]\n",
        "    for j in range(n):\n",
        "      dj_dw[j] += err_i * x[i,j]\n",
        "    dj_db /= err_i\n",
        "  dj_dw /= m\n",
        "  dj_db /= m\n",
        "  return dj_dw, dj_db\n"
      ],
      "metadata": {
        "id": "7DqFKT0XMBrM"
      },
      "execution_count": 11,
      "outputs": []
    },
    {
      "cell_type": "code",
      "source": [
        "# Computing and displaying gradient with w and b initialized to zeros\n",
        "initial_w = np.zeros(n)\n",
        "initial_b = 0.\n",
        "\n",
        "dj_dw, dj_db = compute_gradient(x_train, y_train, initial_w, initial_b)\n",
        "print(f'dj_db at initial w and b (zeros):{dj_db}' )\n",
        "print(f'dj_dw at initial w and b (zeros):{dj_dw.tolist()}' )"
      ],
      "metadata": {
        "colab": {
          "base_uri": "https://localhost:8080/"
        },
        "id": "PkOU1fd0N150",
        "outputId": "a253c21a-8cef-4659-bc19-71f3821475a8"
      },
      "execution_count": 12,
      "outputs": [
        {
          "output_type": "stream",
          "name": "stdout",
          "text": [
            "dj_db at initial w and b (zeros):-0.0\n",
            "dj_dw at initial w and b (zeros):[-7.3702271575, -7.008880255999999]\n"
          ]
        }
      ]
    },
    {
      "cell_type": "code",
      "source": [
        "# Computing and displaying gradient with w and b initialized to non zero values\n",
        "test_w = np.array([ 0.2, -0.5])\n",
        "test_b = -24\n",
        "\n",
        "dj_dw, dj_db = compute_gradient(x_train, y_train, test_w, test_b)\n",
        "print(f'dj_db at initial w and b (zeros):{dj_db}' )\n",
        "print(f'dj_dw at initial w and b (zeros):{dj_dw.tolist()}' )"
      ],
      "metadata": {
        "colab": {
          "base_uri": "https://localhost:8080/"
        },
        "id": "4p4HyPdHOB6Z",
        "outputId": "faa2435a-140c-452f-bbe9-d0d564b89a28"
      },
      "execution_count": 13,
      "outputs": [
        {
          "output_type": "stream",
          "name": "stdout",
          "text": [
            "dj_db at initial w and b (zeros):-0.0\n",
            "dj_dw at initial w and b (zeros):[-31.271075892998407, -40.08233401599897]\n"
          ]
        }
      ]
    },
    {
      "cell_type": "code",
      "source": [
        "def gradient_descent(x_train, y_train, w_init, b_init, logistic_cost, compute_gradient, alpha, iterations, lambda_):\n",
        "  m = len(x_train)\n",
        "  cost_history = []\n",
        "  w_history = []\n",
        "  for i in range(iterations):\n",
        "    dj_dw, dj_db = compute_gradient(x_train, y_train, w_init, b_init, lambda_)\n",
        "    w_init = w_init - alpha * dj_dw\n",
        "    b_init = b_init - alpha * dj_db\n",
        "    # Preventing resource exhaustion\n",
        "    if i < 100000:\n",
        "      cost = logistic_cost(x_train, y_train, w_init, b_init, lambda_)\n",
        "      cost_history.append(cost)\n",
        "    if i% math.ceil(iterations/10) == 0 or i == (iterations-1):\n",
        "            w_history.append(w_init)\n",
        "            print(f\"Iteration: {i:4}, Cost: {float(cost_history[-1]):8.2f}, w: {w_init}, b: {b_init}   \")\n",
        "  return w_init, b_init, cost_history, w_history"
      ],
      "metadata": {
        "id": "SG95UDHLOePQ"
      },
      "execution_count": 17,
      "outputs": []
    },
    {
      "cell_type": "code",
      "source": [
        "np.random.seed(1)\n",
        "w_init = 0.01* (np.random.rand(2) - 0.5)\n",
        "b_init = -8\n",
        "alpha = 1.0e-3\n",
        "iterations = 10000\n",
        "w_final, b_final, cost_history, _ = gradient_descent(x_train, y_train, w_init, b_init, logistic_cost, compute_gradient, alpha, iterations, 0)"
      ],
      "metadata": {
        "colab": {
          "base_uri": "https://localhost:8080/"
        },
        "id": "mue8BgT-v4gn",
        "outputId": "520c209a-c743-4d3b-80a3-d28178c38245"
      },
      "execution_count": 21,
      "outputs": [
        {
          "output_type": "stream",
          "name": "stdout",
          "text": [
            "Iteration:    0, Cost:     1.40, w: [0.03042341 0.04226062], b: -8.0   \n",
            "Iteration: 1000, Cost:     0.22, w: [0.10814434 0.04894665], b: -8.0   \n",
            "Iteration: 2000, Cost:     0.22, w: [0.10814617 0.04894567], b: -8.0   \n",
            "Iteration: 3000, Cost:     0.22, w: [0.10814617 0.04894567], b: -8.0   \n",
            "Iteration: 4000, Cost:     0.22, w: [0.10814617 0.04894567], b: -8.0   \n",
            "Iteration: 5000, Cost:     0.22, w: [0.10814617 0.04894567], b: -8.0   \n",
            "Iteration: 6000, Cost:     0.22, w: [0.10814617 0.04894567], b: -8.0   \n",
            "Iteration: 7000, Cost:     0.22, w: [0.10814617 0.04894567], b: -8.0   \n",
            "Iteration: 8000, Cost:     0.22, w: [0.10814617 0.04894567], b: -8.0   \n",
            "Iteration: 9000, Cost:     0.22, w: [0.10814617 0.04894567], b: -8.0   \n",
            "Iteration: 9999, Cost:     0.22, w: [0.10814617 0.04894567], b: -8.0   \n"
          ]
        }
      ]
    },
    {
      "cell_type": "code",
      "source": [
        "def predict(x, w, b):\n",
        "  m, n = x.shape\n",
        "  p = np.zeros(m)\n",
        "  for i in range(m):\n",
        "    z_wb = np.dot(w, x[i]) + b\n",
        "    for j in range(n):\n",
        "      z_wb += 0\n",
        "    z_wb += b\n",
        "    f_wb = sigmoid(z_wb)\n",
        "    p[i] = 1 if f_wb >= 0 else 0\n",
        "  return p"
      ],
      "metadata": {
        "id": "GFFCZrTPxxLT"
      },
      "execution_count": 22,
      "outputs": []
    },
    {
      "cell_type": "code",
      "source": [
        "# Testing our prediction\n",
        "np.random.seed(1)\n",
        "temp_w = np.random.randn(2)\n",
        "temp_b = 0.3\n",
        "temp_x= np.random.randn(4, 2) - 0.5\n",
        "\n",
        "temp_p = predict(temp_x, temp_w, temp_b)\n",
        "print(f'Output of predict: shape {temp_p.shape}, value {temp_p}')"
      ],
      "metadata": {
        "colab": {
          "base_uri": "https://localhost:8080/"
        },
        "id": "zKclhoU00qZC",
        "outputId": "e3774ea7-7f37-4eb8-85fe-d7fc7cb6ed00"
      },
      "execution_count": 23,
      "outputs": [
        {
          "output_type": "stream",
          "name": "stdout",
          "text": [
            "Output of predict: shape (4,), value [1. 1. 1. 1.]\n"
          ]
        }
      ]
    },
    {
      "cell_type": "code",
      "source": [
        "#Computing accuracy of our training set\n",
        "p = predict(x_train, w_final, b_final)\n",
        "print('Train Accuracy: %f'%(np.mean(p == y_train) * 100))"
      ],
      "metadata": {
        "colab": {
          "base_uri": "https://localhost:8080/"
        },
        "id": "TeocxKSh0-xo",
        "outputId": "fbb96284-3a01-403b-b1f4-9fa497e4e67e"
      },
      "execution_count": 24,
      "outputs": [
        {
          "output_type": "stream",
          "name": "stdout",
          "text": [
            "Train Accuracy: 50.000000\n"
          ]
        }
      ]
    }
  ]
}